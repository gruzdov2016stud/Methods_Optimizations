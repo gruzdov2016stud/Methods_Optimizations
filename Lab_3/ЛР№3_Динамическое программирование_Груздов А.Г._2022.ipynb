{
 "cells": [
  {
   "cell_type": "markdown",
   "metadata": {
    "collapsed": true,
    "pycharm": {
     "name": "#%% md\n"
    }
   },
   "source": [
    "<html>\n",
    "<head>\n",
    "\t<title></title>\n",
    "</head>\n",
    "<body>\n",
    "<h2 style=\"text-align: center;line-height: 120%;\">ФЕДЕРАЛЬНОЕ ГОСУДАРСТВЕННОЕ БЮДЖЕТНОЕ ОБРАЗОВАТЕЛЬНОЕ УЧРЕЖДЕНИЕ ВЫСШЕГО ОБРАЗОВАНИЯ НАЦИОНАЛЬНЫЙ ИССЛЕДОВАТЕЛЬСКИЙ УНИВЕРСИТЕТ «МОСКОВСКИЙ ЭНЕРГЕТИЧЕСКИЙ ИНСТИТУТ» Кафедра «РЗиАЭ»</h2>\n",
    "<h2 style=\"text-align: center;line-height: 20%;\">Лабораторная работа №3</h2>\n",
    "<h3 style=\"text-align: center;line-height: 20%;\">по курсу: «Методы решения задач оптимизации»</h3>\n",
    "\n",
    "<h2 style=\"text-align: center;line-height: 80%;\"><em>Динамическое программирование</em></h2>\n",
    "\n",
    "<h4 style=\"text-align: center;line-height: 80%;\"><em>Вариант №5</em></h4>\n",
    "\n",
    "<h5 style=\"text-align: right;line-height: 40%;\">Выполнил: студент группы Э-13м-21</h5>\n",
    "<h5 style=\"text-align: right;line-height: 40%;\">Груздов А.Г.</h5>\n",
    "\n",
    "<h5 style=\"text-align: right;line-height: 40%;\">Принял: Рогозинников Е.И.</p>\n",
    "<h5 style=\"text-align: right;line-height: 40%;\">Рыжков А.К.</p>\n",
    "<h4 style=\"text-align: center;line-height: 100%;\"><em> Москва, 2022</em></h3>\n",
    "</body>\n",
    "</html>"
   ]
  },
  {
   "cell_type": "markdown",
   "source": [
    " Целью работы является получение практических навыков работы с методом решения задач динамического программирования."
   ],
   "metadata": {
    "collapsed": false,
    "pycharm": {
     "name": "#%% md\n"
    }
   }
  },
  {
   "cell_type": "markdown",
   "source": [
    "Исходные данные, задание"
   ],
   "metadata": {
    "collapsed": false,
    "pycharm": {
     "name": "#%% md\n"
    }
   }
  },
  {
   "cell_type": "markdown",
   "source": [
    "Персональный энергоблок (ПЭБ) имеет в своём составе аккумуляторную батарею ёмкости 12500 Вт·ч и уровнем заряда 2700 Вт·ч. Цена на электроэнергию в тчении дня изменяется согласно почасовому графику, представленному в таблице 1, нагрузка потребителя, подключенного к ПЭБ, изменяется согласно почасовому графику, представленному в таблице 2, также подключен потребитель с постоянной нагрузкой 150 Вт·ч. ПЭБ способен каждый час либо заряжать свою аккумуляторную батарею (от 1 до 4 кВт·ч), покупая электроэнергию из сети, либо разряжать (от 1 до 4 Вт·ч) – продавая излишки электроэнергии в сеть, либо не производить торговых операцй вовсе. Необходимо спланировать график торговых операций на следующий день, имея перечисленную информацию, на каждый час так, чтобы суммарное вознаграждение к концу дня было максимальным, а оставшийся заряж аккумуляторной батареи был выше значения 7000 Вт·ч."
   ],
   "metadata": {
    "collapsed": false,
    "pycharm": {
     "name": "#%% md\n"
    }
   }
  },
  {
   "cell_type": "code",
   "execution_count": 2,
   "outputs": [],
   "source": [
    "import numpy as np\n",
    "from matplotlib import pyplot as plt\n",
    "# ==================================================Исходные данные=====================================================\n",
    "# Вариант 5\n",
    "# Емкость аккумуляторной батареи\n",
    "capacity = 15000\n",
    "# Начальный уровень заряда\n",
    "initCapacity = 3200\n",
    "actualCapacity = initCapacity\n",
    "# Требуемое значение емкости на последнем часе\n",
    "targetCapacity = 2000\n",
    "# Постоянная нагрузка\n",
    "loadConst = 170\n",
    "# Изменение нагрузки потребителя\n",
    "loadSched = [480, 320, 320, 360, 360, 360, 420, 920, 1200, 720, 680, 720, 800, 820, 960, 1200, 1380, 1380, 1520, 1800,\n",
    "             1920, 1920, 1640, 1020]\n",
    "# Изменение цены за электроэнергию в течение дня кВт*ч\n",
    "priceSched = [1.5, 1.5, 1.5, 1.5, 1.5, 1.5, 2, 3, 5, 5, 5, 4.5, 3, 3, 3, 3, 4.5, 5, 7, 9, 11, 12, 8, 4]\n",
    "# Массив нагрузки по часам\n",
    "load = [0] * 24\n",
    "# ======================================================================================================================"
   ],
   "metadata": {
    "collapsed": false,
    "pycharm": {
     "name": "#%%\n"
    }
   }
  },
  {
   "cell_type": "code",
   "execution_count": 3,
   "outputs": [],
   "source": [
    "# ======================================================================================================================\n",
    "def function(i, change, actual, functionValue, string):\n",
    "    if (i == 23):  # Заряд батареи должен быть равен требуемому значению емкости на последнем часе по условию\n",
    "        targetCharge = targetCapacity\n",
    "    else:  # Равно нагрузке следующего часа\n",
    "        targetCharge = load[i + 1]\n",
    "\n",
    "    # С фильтрацией\n",
    "    # если заряд аккумуляторной батареи после применения данной операции не превышает значение максимальной ёмкости АБ; &&\n",
    "    # если заряд аккумуляторной батареи после применения данной операции не меньше значения нагрузки следующего часа.\n",
    "    if ((actual + change - load[i]) <= capacity) & ((actual + change - load[i]) >= targetCharge):\n",
    "        if not string == \"\":\n",
    "            var = \"h\" + str(i) + \";\" + str(actual + change - load[i]) + \";\" + string + \",\" + str(change)\n",
    "        else:\n",
    "            var = \"h\" + str(i) + \";\" + str(actual + change - load[i]) + \";\" + str(change)\n",
    "        strings.append(var)\n",
    "        hashTable[var] = functionValue - priceSched[i] * change\n",
    "\n",
    "    # Без фильтрации\n",
    "    # if not string == \"\":\n",
    "    #     var = \"h\" + str(i) + \";\" + str(actual + change - load[i]) + \";\" + string + \",\" + str(change)\n",
    "    # else:\n",
    "    #     var = \"h\" + str(i) + \";\" + str(actual + change - load[i]) + \";\" + str(change)\n",
    "    # strings.append(var)\n",
    "    # hashTable[var] = functionValue - priceSched[i]*change\n",
    "# ======================================================================================================================"
   ],
   "metadata": {
    "collapsed": false,
    "pycharm": {
     "name": "#%%\n"
    }
   }
  },
  {
   "cell_type": "code",
   "execution_count": 4,
   "outputs": [],
   "source": [
    "# Заполним массив load, где храниться вся нагрузка на день\n",
    "for i in range(len(loadSched)):\n",
    "    load[i] = loadConst + loadSched[i]\n",
    "\n",
    "# Исходная хэш-таблица\n",
    "hashTable = dict()\n",
    "# Ключ хэш-таблицы для тех случаев, которые удовлетворяют двум условиям\n",
    "strings = []\n",
    "# ======================================================================================================================\n",
    "\n",
    "for i in range(24):\n",
    "\n",
    "    if i == 0:\n",
    "        # Цена нарастает для 1 часа\n",
    "        function(i, +1000, initCapacity, 0, \"\")\n",
    "        function(i, +2000, initCapacity, 0, \"\")\n",
    "        function(i, +3000, initCapacity, 0, \"\")\n",
    "        function(i, +4000, initCapacity, 0, \"\")\n",
    "        function(i,     0, initCapacity, 0, \"\")\n",
    "        function(i, -1000, initCapacity, 0, \"\")\n",
    "        function(i, -2000, initCapacity, 0, \"\")\n",
    "        function(i, -3000, initCapacity, 0, \"\")\n",
    "        function(i, -4000, initCapacity, 0, \"\")\n",
    "\n",
    "    if (i > 0) & (i < 24):\n",
    "        # Заполняем массив значениям ,которые подходили под условия в функции function()\n",
    "        localStrings = []\n",
    "        for j in range(len(strings)):\n",
    "            if (\"h\" + str(i - 1)) in strings[j]:\n",
    "                localStrings.append(strings[j])\n",
    "\n",
    "        #Cоздаем всё возможные варианты\n",
    "        for j in range(len(localStrings)):\n",
    "            data = localStrings[j].split(\";\")\n",
    "            # значения остаточного заряда на батарее\n",
    "            localActualCapacity = data[1]\n",
    "            # значения целевой функции (цены), получаемые на данный час\n",
    "            localFunctionValue = hashTable[localStrings[j]]\n",
    "            # где data[2] это покупка\\продажа ээ для конкретного часа.\n",
    "            function(i, +1000, int(localActualCapacity), localFunctionValue, data[2])\n",
    "            function(i, +2000, int(localActualCapacity), localFunctionValue, data[2])\n",
    "            function(i, +3000, int(localActualCapacity), localFunctionValue, data[2])\n",
    "            function(i, +4000, int(localActualCapacity), localFunctionValue, data[2])\n",
    "            function(i,     0, int(localActualCapacity), localFunctionValue, data[2])\n",
    "            function(i, -1000, int(localActualCapacity), localFunctionValue, data[2])\n",
    "            function(i, -2000, int(localActualCapacity), localFunctionValue, data[2])\n",
    "            function(i, -3000, int(localActualCapacity), localFunctionValue, data[2])\n",
    "            function(i, -4000, int(localActualCapacity), localFunctionValue, data[2])\n",
    "\n",
    "    if (i > 0) & (i < 24):\n",
    "\n",
    "        localStrings = []\n",
    "        for j in range(len(strings)):\n",
    "            if (\"h\" + str(i)) in strings[j]:\n",
    "                localStrings.append(strings[j])\n",
    "\n",
    "        stringsForDelete = []\n",
    "\n",
    "        # Алгоритм сравнения проигрышных вариантов (дубликатов и доминируемых строк)\n",
    "        for j in range(len(localStrings) - 1):\n",
    "            #емкость n-1 варианта\n",
    "            chargeJ = int(localStrings[j].split(\";\")[1])\n",
    "            for k in range(j + 1, len(localStrings)):\n",
    "                # емкость n варианта\n",
    "                chargeK = int(localStrings[k].split(\";\")[1])\n",
    "                # Если емкость n-1 >= емкости n\n",
    "                # Если значение целевой функции (цены) n-1 >= цены n\n",
    "                if (chargeJ >= chargeK) & (hashTable[localStrings[j]] >= hashTable[localStrings[k]]):\n",
    "                    # Проверка если такая же строка в списке на удаление, если нету, то следует удалить ключ значение n\n",
    "                    if not localStrings[k] in stringsForDelete:\n",
    "                        stringsForDelete.append(localStrings[k])\n",
    "\n",
    "                if (chargeJ <= chargeK) & (hashTable[localStrings[j]] <= hashTable[localStrings[k]]):\n",
    "                    # Проверка если такая же строка в списке на удаление, если нету, то следует удалить ключ значение n-1\n",
    "                    if not localStrings[j] in stringsForDelete:\n",
    "                        stringsForDelete.append(localStrings[j])\n",
    "        # Алгоритм удаления проигрышных вариантов (дубликатов и [key,value] с наибольшим значением функции прибыли.)\n",
    "        for j in range(len(stringsForDelete)):\n",
    "            del hashTable[stringsForDelete[j]]\n",
    "            strings.remove(stringsForDelete[j])\n",
    "# ======================================================================================================================"
   ],
   "metadata": {
    "collapsed": false,
    "pycharm": {
     "name": "#%%\n"
    }
   }
  },
  {
   "cell_type": "code",
   "execution_count": 5,
   "outputs": [
    {
     "name": "stdout",
     "output_type": "stream",
     "text": [
      "  Функция прибыли: -32500.0, Торговые операции: 4000,4000,-4000,-4000,4000,4000,4000,4000,-4000,-4000,-2000,1000,4000,4000,4000,4000,-4000,4000,4000,4000,-4000,-4000,2000,2000, Заряд: 2900\n"
     ]
    }
   ],
   "source": [
    "# =================================Наиболее оптимальное значение целевой функции========================================\n",
    "bestFunction = -1000000000000\n",
    "bestFunctionLine = \"\"\n",
    "bestFunctionCharge = \"\"\n",
    "for i in range(len(strings)):\n",
    "    if \"h23\" in strings[i]:\n",
    "        if hashTable[strings[i]] > bestFunction:\n",
    "            bestFunctionLine = strings[i].split(\";\")[2]\n",
    "            bestFunction = hashTable[strings[i]]\n",
    "            bestFunctionCharge = strings[i].split(\";\")[1]\n",
    "# Выводим наиболее оптимальное значение целевой функции\n",
    "print(\"  Функция прибыли: \"   + str(bestFunction) +\n",
    "      \", Торговые операции: \" + bestFunctionLine +\n",
    "      \", Заряд: \"             + str(bestFunctionCharge))\n",
    "# ======================================================================================================================"
   ],
   "metadata": {
    "collapsed": false,
    "pycharm": {
     "name": "#%%\n"
    }
   }
  },
  {
   "cell_type": "code",
   "execution_count": 6,
   "outputs": [
    {
     "data": {
      "text/plain": "<Figure size 432x288 with 1 Axes>",
      "image/png": "[encoded data removed]"
     },
     "metadata": {
      "needs_background": "light"
     },
     "output_type": "display_data"
    }
   ],
   "source": [
    "# =======================================Заряд батареи без торговых операций============================================\n",
    "plt.figure(\"Histograms\")\n",
    "# Заряд батареии без торговых операций\n",
    "x_axe = np.arange(0, 24, 1)\n",
    "chargeWithoutTrading = np.zeros(24)\n",
    "for i in range(24):\n",
    "    if i == 0:\n",
    "        chargeWithoutTrading[i] = initCapacity - load[i]\n",
    "    else:\n",
    "        chargeWithoutTrading[i] = chargeWithoutTrading[i - 1] - load[i]\n",
    "\n",
    "plt.title(\"Заряд батареи без торговых операций\", fontdict={'fontsize': 14})\n",
    "plt.ylabel(\"Заряд батареи, Вт*ч\", fontdict={'fontsize': 9})\n",
    "plt.xlabel(\"Номер часа\", fontdict={'fontsize': 9})\n",
    "plt.bar(x_axe, chargeWithoutTrading)\n",
    "plt.grid()\n",
    "plt.show()"
   ],
   "metadata": {
    "collapsed": false,
    "pycharm": {
     "name": "#%%\n"
    }
   }
  },
  {
   "cell_type": "code",
   "execution_count": 9,
   "outputs": [
    {
     "data": {
      "text/plain": "<Figure size 432x288 with 1 Axes>",
      "image/png": "[encoded data removed]"
     },
     "metadata": {
      "needs_background": "light"
     },
     "output_type": "display_data"
    }
   ],
   "source": [
    "# =======================================Заряд батареи с учетом торговых операций=======================================\n",
    "data = bestFunctionLine.split(\",\")\n",
    "trades = np.zeros(len(data))\n",
    "chargeWithTrading = np.zeros(24)\n",
    "for i in range(24):\n",
    "    if i == 0:\n",
    "        chargeWithTrading[i] = initCapacity + (int)(data[i]) - load[i]\n",
    "    else:\n",
    "        chargeWithTrading[i] = chargeWithTrading[i - 1] + (int)(data[i]) - load[i]\n",
    "\n",
    "plt.title(\"Заряд батареии с учётом торговых операций\", fontdict={'fontsize': 14})\n",
    "plt.ylabel(\"Заряд батареи, Вт*ч\", fontdict={'fontsize': 9})\n",
    "plt.xlabel(\"Номер часа\", fontdict={'fontsize': 9})\n",
    "plt.bar(x_axe, chargeWithTrading)\n",
    "plt.grid()"
   ],
   "metadata": {
    "collapsed": false,
    "pycharm": {
     "name": "#%%\n"
    }
   }
  },
  {
   "cell_type": "code",
   "execution_count": 13,
   "outputs": [
    {
     "data": {
      "text/plain": "<Figure size 432x288 with 1 Axes>",
      "image/png": "[encoded data removed]"
     },
     "metadata": {
      "needs_background": "light"
     },
     "output_type": "display_data"
    }
   ],
   "source": [
    "# =======================================Значение функции прибыли======================================================\n",
    "plt.figure(\"Function value\")\n",
    "functionValue = np.zeros(len(priceSched))\n",
    "for i in range(len(priceSched)):\n",
    "    if i == 0:\n",
    "        functionValue[i] = 0 - priceSched[i] * ((int)(data[i]))\n",
    "    else:\n",
    "        functionValue[i] = functionValue[i - 1] - priceSched[i] * ((int)(data[i]))\n",
    "\n",
    "plt.title(\"Значение функции прибыли\", fontdict={'fontsize': 16})\n",
    "plt.ylabel(\"Значение функции\", fontdict={'fontsize': 11})\n",
    "plt.xlabel(\"Номер часа\", fontdict={'fontsize': 11})\n",
    "plt.plot(x_axe, functionValue)\n",
    "plt.grid()\n",
    "plt.show()"
   ],
   "metadata": {
    "collapsed": false,
    "pycharm": {
     "name": "#%%\n"
    }
   }
  }
 ],
 "metadata": {
  "kernelspec": {
   "display_name": "Python 3",
   "language": "python",
   "name": "python3"
  },
  "language_info": {
   "codemirror_mode": {
    "name": "ipython",
    "version": 2
   },
   "file_extension": ".py",
   "mimetype": "text/x-python",
   "name": "python",
   "nbconvert_exporter": "python",
   "pygments_lexer": "ipython2",
   "version": "2.7.6"
  }
 },
 "nbformat": 4,
 "nbformat_minor": 0
}