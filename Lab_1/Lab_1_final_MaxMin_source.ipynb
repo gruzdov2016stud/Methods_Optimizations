{
 "cells": [
  {
   "cell_type": "markdown",
   "source": [
    "<html>\n",
    "<head>\n",
    "\t<title></title>\n",
    "</head>\n",
    "<body>\n",
    "<h1 style=\"text-align: center;line-height: 120%;\">ФЕДЕРАЛЬНОЕ ГОСУДАРСТВЕННОЕ БЮДЖЕТНОЕ ОБРАЗОВАТЕЛЬНОЕ УЧРЕЖДЕНИЕ ВЫСШЕГО ОБРАЗОВАНИЯ НАЦИОНАЛЬНЫЙ ИССЛЕДОВАТЕЛЬСКИЙ УНИВЕРСИТЕТ «МОСКОВСКИЙ ЭНЕРГЕТИЧЕСКИЙ ИНСТИТУТ» Кафедра «РЗиАЭ»</h1>\n",
    "<h2 style=\"text-align: center;line-height: 20%;\">Лабораторная работа №1</h2>\n",
    "\n",
    "<h3 style=\"text-align: center;line-height: 80%;\"><em>Симплекс-метод</em></h3>\n",
    "\n",
    "<p style=\"text-align: right;line-height: 40%;\">Выполнил: студент группы Э-13м-21</p>\n",
    "<p style=\"text-align: right;line-height: 40%;\">Груздов А.Г.</p>\n",
    "\n",
    "<p style=\"text-align: right;line-height: 40%;\">Принял: Рогозинников Е.И.</p>\n",
    "<h4 style=\"text-align: center;line-height: 100%;\"><em> Москва, 2022</em></h3>\n",
    "</body>\n",
    "</html>"
   ],
   "metadata": {
    "collapsed": false,
    "pycharm": {
     "name": "#%% md\n"
    }
   }
  },
  {
   "cell_type": "code",
   "execution_count": 241,
   "outputs": [],
   "source": [
    "import numpy as np\n",
    "import math\n",
    "from scipy import optimize\n"
   ],
   "metadata": {
    "collapsed": false,
    "pycharm": {
     "name": "#%%\n"
    }
   }
  },
  {
   "cell_type": "code",
   "execution_count": 242,
   "outputs": [],
   "source": [
    "#-------------------------- -------------------------- #\n",
    "lim = \"max\"\n",
    "if lim == \"max\":\n",
    "    M = -1j # Число М\n",
    "else:\n",
    "    M = 1j\n",
    "# #-------------------------- -------------------------- #\n",
    "# Zx = [4, -4, 1]\n",
    "# A = [[4, 5, 4], [0, 1, 0]] # [Свободные члены системы ограничений (правая часть)],[где {0 - =} , {1 - ≥} , {-1 - ≤}]\n",
    "# m = len(Zx) # Количество ограничений (количество строк)\n",
    "# n = len(Zx) # Количество переменных (без учёта балансовых и M переменных)\n",
    "# basis = []\n",
    "#\n",
    "# a = [-4,-3, 0]# Коэффициенты при переменных в первом ограничении\n",
    "# b = [ 4, 4, 0]# Коэффициенты при переменных во втором ограничении\n",
    "# c = [ 4, 3, 1]# Коэффициенты при переменных в третьем ограничении\n",
    "# source_in = np.zeros((m,n))\n",
    "# source_in[0] = a\n",
    "# source_in[1] = b\n",
    "# source_in[2] = c\n",
    "#\n",
    "# for i in range(0,m):\n",
    "#     if A[0][i] < 0: # Если элементы правой части отрицательные, то сменим знак\n",
    "#         if A[0][i] == 1 or A[0][i] == -1:\n",
    "#             (-1)*A[0][i] #\n",
    "#             (-1)*A[1][i] # меняем сам знак на противоположный\n",
    "#             (-1)*source_in[i] # меняем знаки в ограничениях в левой части на противоположные\n",
    "#         else:\n",
    "#             (-1)*A[0][i]\n",
    "#             (-1)*source_in[i]\n",
    "# new_n = n # столбец с 0\n",
    "# print(\"Проверка на предпочтительный вид\")\n",
    "# if 1 in source_in:\n",
    "#     for k in range(0, n): # порядок ограничений в левой части\n",
    "#         for t in range(0, m):\n",
    "#             if source_in[:,k][t] == 1:\n",
    "#                 basis.append(t)\n",
    "#                 print(f\"В {1+k} уравнение со знаком [=] выбрана в качестве базисной переменной значение под индексом {t}. Уравнение имеет предпочтительный вид. \")\n",
    "#     for j in range(0,m):\n",
    "#         if A[1][j] == 0:\n",
    "#             if 1 not in source_in[j]:\n",
    "#                 Zx.append(M)\n",
    "#                 X0 = np.zeros((new_n,1))\n",
    "#                 source_in = np.hstack((source_in,X0))\n",
    "#                 basis.append(new_n)\n",
    "#                 source_in[j][new_n] = 1\n",
    "#                 print(f\"В {j+1} уравнение со знаком [=] добавилась базисная пременная {M} индекс {new_n}\")\n",
    "# for j in range(0, m): # порядок ограничений в правой части\n",
    "#     if A[1][j] == 1:\n",
    "#         if 1 not in source_in[j]:\n",
    "#             Zx.append(0)\n",
    "#             X0 = np.zeros((new_n,1))\n",
    "#             source_in = np.hstack((source_in,X0))\n",
    "#             source_in[j][new_n] = -1\n",
    "#             Zx.append(M)\n",
    "#             X0 = np.zeros((new_n,1))\n",
    "#             source_in = np.hstack((source_in,X0))\n",
    "#             source_in[j][new_n] = 1\n",
    "#             basis.append(j)\n",
    "#             print(f\"В {j+1} уравнение со знаком [≥] добавилась базисная пременная {M} индекс {5} \")\n",
    "#     if A[1][j] == -1:\n",
    "#         if 1 not in source_in[j]:\n",
    "#             new_n +=1\n",
    "#             Zx.append(0)\n",
    "#             X0 = np.zeros((new_n,1))\n",
    "#             new_source_in = np.hstack((source_in,X0))\n",
    "#             new_source_in[j][new_n] = 1\n",
    "#             basis.append(1)\n",
    "#             new_n +=1\n",
    "#             print(f\"В {j+1} уравнение со знаком [≤] добавилась базисная пременная {M} индекс {new_n} \")\n",
    "# basis = [2,3,5]\n",
    "# print(new_source_in, basis, Zx)\n",
    "# A0 = A[0]\n",
    "# Zx_M = Zx\n",
    "# Cb = [M, M, 1]\n",
    "#\n",
    "# w = 2 # Количество искусственных базисных переменных\n",
    "# m = len(Cb) # Количество ограничений (количество строк)\n",
    "# l = len(Zx_M) # Количество переменных в М задаче (количество столбцов)\n",
    "# n = l-m+1 # Количество переменных (количество столбцов без М переменных)\n",
    "# quantity_x = [0,1,2]"
   ],
   "metadata": {
    "collapsed": false,
    "pycharm": {
     "name": "#%%\n"
    }
   }
  },
  {
   "cell_type": "code",
   "execution_count": null,
   "outputs": [],
   "source": [
    "# #-------------------------- -------------------------- #\n",
    "# #-------------------------- -------------------------- #\n",
    "# basis =[           5,    3, 6] # Порядковые номера базисных переменных (нумерация с 0)\n",
    "# Zx_M = [-3, 1, -1, 0, 0, M, M] # Коэффициенты при переменных в целевой функции М задачи\n",
    "# A0 = [0,\n",
    "#       6,\n",
    "#       6] # Свободные члены системы ограничений\n",
    "# Cb = [M,\n",
    "#       0,\n",
    "#       M] # Коэффициенты при базисных переменных в целевой функции исходной задач\n",
    "# #-------------------------- -------------------------- #\n",
    "#\n",
    "# #-------------------------- -------------------------- #\n",
    "# w = 2 # Количество искусственных базисных переменных\n",
    "# m = len(Cb) # Количество ограничений (количество строк)\n",
    "# l = len(Zx_M) # Количество переменных в М задаче (количество столбцов)\n",
    "# n = l-m+1 # Количество переменных (количество столбцов без М переменных)\n",
    "# #-------------------------- -------------------------- #\n",
    "#\n",
    "# #--------------------------Ограничения -------------------------- #\n",
    "#\n",
    "# a = [2, -1, -2, 0, 0, 1, 0]# Коэффициенты при переменных в первом ограничении\n",
    "# b = [ 2, 1, 4, 1, 0, 0, 0]# Коэффициенты при переменных во втором ограничении\n",
    "# c = [-3, 4, 4, 0, -1, 0, 1]# Коэффициенты при переменных в третьем ограничении\n",
    "#\n",
    "# source_M = np.zeros((m,l)) # Пустая матрица размером m, l для заполнения коэффициентами при переменных из системы ограничений\n",
    "# source_M[0] = a # Первая строка матрицы\n",
    "# source_M[1] = b # Вторая строка матрицы\n",
    "# source_M[2] = c # Третья строка матрицы\n",
    "# #-------------------------- -------------------------- #\n",
    "#\n",
    "# #--------------------------Ограничении исходной задачи -------------------------- #\n",
    "# source = source_M[:,0:4]\n",
    "# #-------------------------- -------------------------- #\n",
    "# print(source)\n",
    "# print()"
   ],
   "metadata": {
    "collapsed": false,
    "pycharm": {
     "name": "#%%\n"
    }
   }
  },
  {
   "cell_type": "code",
   "execution_count": 243,
   "outputs": [],
   "source": [
    "lim = \"max\"\n",
    "if lim == \"max\":\n",
    "    M = -1j # Число М\n",
    "else:\n",
    "    M = 1j\n",
    "#-------------------------- -------------------------- #\n",
    "basis =[       2,    4, 5] # Порядковые номера базисных переменных (нумерация с 0)\n",
    "Zx_M = [4, -4, 1, 0, M, M] # Коэффициенты при переменных в целевой функции М задачи\n",
    "A0 = [4,\n",
    "      4,\n",
    "      5] # Свободные члены системы ограничений\n",
    "Cb = [M,\n",
    "      M,\n",
    "      1] # Коэффициенты при базисных переменных в целевой функции исходной задач\n",
    "#-------------------------- -------------------------- #\n",
    "\n",
    "#-------------------------- -------------------------- #\n",
    "w = 2 # Количество искусственных базисных переменных\n",
    "m = len(Cb) # Количество ограничений (количество строк)\n",
    "l = len(Zx_M) # Количество переменных в М задаче (количество столбцов)\n",
    "n = l-m+1 # Количество переменных (количество столбцов без М переменных)\n",
    "#-------------------------- -------------------------- #\n",
    "quantity_x = [0,1,2]\n",
    "#--------------------------Ограничения -------------------------- #\n",
    "\n",
    "a = [-4,-3, 0,  0,  1,  0]# Коэффициенты при переменных в первом ограничении\n",
    "b = [ 4, 4, 0, -1,  0,  1]# Коэффициенты при переменных во втором ограничении\n",
    "c = [ 4, 3, 1,  0,  0,  0]# Коэффициенты при переменных в третьем ограничении\n",
    "\n",
    "\n",
    "source_M = np.zeros((m,l)) # Пустая матрица размером m, l для заполнения коэффициентами при переменных из системы ограничений\n",
    "source_M[0] = a # Первая строка матрицы\n",
    "source_M[1] = b # Вторая строка матрицы\n",
    "source_M[2] = c # Третья строка матрицы\n",
    "#-------------------------- -------------------------- #\n",
    "\n",
    "#--------------------------Ограничении исходной задачи -------------------------- #\n"
   ],
   "metadata": {
    "collapsed": false,
    "pycharm": {
     "name": "#%%\n"
    }
   }
  },
  {
   "cell_type": "code",
   "execution_count": 244,
   "outputs": [],
   "source": [
    "def mark_1(array_f):\n",
    "    \"\"\"\n",
    "    @:doc \"Признак бесконечности множества оптимальных планов (альтернативный оптимум) - если в индексной строке содержащей оптимальный\n",
    "     план) имеется хотя бы одна нулевая оценка, соответствующая свободной переменной, то задача линейного программирования имеет\n",
    "     бесконечное множество оптимальных планов.\n",
    "     ========================================================\n",
    "    \"\"\"\n",
    "    for i in range(0, len(quantity_x)):\n",
    "        if array_f[quantity_x[i]] == 0:\n",
    "            print(\"Признак бесконечности множества оптимальных планов (альтернативный оптимум)\")"
   ],
   "metadata": {
    "collapsed": false,
    "pycharm": {
     "name": "#%%\n"
    }
   }
  },
  {
   "cell_type": "code",
   "execution_count": 245,
   "outputs": [],
   "source": [
    "def mark_2(ai0j):\n",
    "    \"\"\"\n",
    "    @:doc \"Признак неограниченности целевой функции:: если в оптимальном плане М-задачи\n",
    "    не все искусственные переменные равны нулю, то система ограничений исходной задачи не-совместна.\"\n",
    "     ========================================================\n",
    "    \"\"\"\n",
    "    flag = True\n",
    "    for j in range(0,m):\n",
    "        count = 0\n",
    "        if ai0j[j] < 0 :\n",
    "            count+=1\n",
    "        if count == l-w:\n",
    "            print(f\"Признак неограниченности целевой функции. Все переменные в разрешающем столбце отрицательные {ai0j}\")\n",
    "            flag = False\n",
    "        else:\n",
    "            0\n",
    "    return flag\n"
   ],
   "metadata": {
    "collapsed": false,
    "pycharm": {
     "name": "#%%\n"
    }
   }
  },
  {
   "cell_type": "code",
   "execution_count": 246,
   "outputs": [],
   "source": [
    "def mark_3(source_M, Cb, Zx):\n",
    "    \"\"\"\n",
    "    @:doc \"Признак несовместности системы ограничений: если в разрешающем столбце все переменные отрицательные\"\n",
    "     ========================================================\n",
    "    \"\"\"\n",
    "    for j in range(0,m):\n",
    "        count = 0\n",
    "        for i in range(0,l):\n",
    "            if Cb[j] == M and Zx[i] != M:\n",
    "                    value = source_M[:,i][j]\n",
    "                    if value <= 0:\n",
    "                        count+=1\n",
    "        if count == l-w:\n",
    "            print(f\"Признак несовместности системы ограничений. Невозможно вывести искусственную переменную из базиса под индексом {j}.\")\n",
    "            flag = False\n",
    "        else:\n",
    "            0\n",
    "    return flag"
   ],
   "metadata": {
    "collapsed": false,
    "pycharm": {
     "name": "#%%\n"
    }
   }
  },
  {
   "cell_type": "code",
   "execution_count": 247,
   "outputs": [],
   "source": [
    "def deltaFj(M_or_NotM:bool,Zx, Cb, source_M):\n",
    "    \"\"\"\n",
    "    @:doc Функция отвечающая за расчет оценночной строки для основной и М задачи. Параметр M_or_NotM отвечает за выбор типа функции\n",
    "     ========================================================\n",
    "    @:arg M_or_NotM:bool - False- оценочной строка для M задачи, a True для основной\n",
    "    @:arg: Zx_M:list: Коэффициенты при переменных Z(x)\n",
    "    @:arg: source_M матрица с коэффициентами системы ограничений\n",
    "    \"\"\"\n",
    "    #print_f_0 = \" + \"\n",
    "    f = [] # Заполнение оценочной строки \"0\"\n",
    "    for i in range(0,l):\n",
    "        f.append(0)\n",
    "        for j in range(0,m):\n",
    "            if M_or_NotM: # условие для проверки типа оценочной строки для М и не М задачи\n",
    "                if Cb[j] != M: # # оценочная строка с учетом искуственных переменных при БП содержащие искуственные переменные\n",
    "                    f[i] += Cb[j]*source_M[:,i][j]\n",
    "                    #print_f_0 += \" \"+'{}*{}'.format(Cb[j], source_M[:,i][j])\n",
    "            else:\n",
    "                if Cb[j] == M:# оценочная строка с учетом искуственных переменных\n",
    "                    f[i] += (Cb[j]*source_M[:,i][j]).imag\n",
    "        #print(print_f_0 + \" = {}\".format(f[i]))\n",
    "        if M_or_NotM: # Теперь следует вычесть коэффиицены при Z(x) не содержащие\\содержащие  искуственные переменные\n",
    "            if Zx[i] != M:\n",
    "                f[i] -= Zx[i]\n",
    "        else:\n",
    "            if Zx[i] == M:\n",
    "                f[i] -= (Zx[i]).imag\n",
    "    print(\"Оценночная строка fj-cj: \",f) if M_or_NotM else print(\"Оценночная строка fj-cj M задачи: \",f)\n",
    "    return f"
   ],
   "metadata": {
    "collapsed": false,
    "pycharm": {
     "name": "#%%\n"
    }
   }
  },
  {
   "cell_type": "code",
   "execution_count": 248,
   "outputs": [],
   "source": [
    "def validate_Optim(array_f,array_f_M):\n",
    "    \"\"\"\n",
    "    @:doc Функция определяет оптимальность найденного плана\n",
    "    ========================================================\n",
    "    @:arg array_f - оценочная строка основной задачи\n",
    "    @:arg array_f_M - оценочная строка M задачи\n",
    "    \"\"\"\n",
    "    if lim == \"max\":\n",
    "        if min(array_f_M)<0 or min(array_f)<0 :\n",
    "           print(\"План не оптимален, следует перейти к \\\"нехудшему\\\" решению.\")\n",
    "           flag = True\n",
    "        else:\n",
    "            print(\"План оптимален.\")\n",
    "            mark_1(array_f) #Проверка на Признак бесконечности множества оптимальных планов (альтернативный оптимум)\n",
    "            flag = False\n",
    "    else:\n",
    "        if min(array_f_M)>0 or min(array_f)>0 :\n",
    "           print(\"План не оптимален, следует перейти к \\\"нехудшему\\\" решению.\")\n",
    "           flag = True\n",
    "        else:\n",
    "            print(\"План оптимален.\")\n",
    "            mark_1(array_f) #Проверка на Признак бесконечности множества оптимальных планов (альтернативный оптимум)\n",
    "            flag = False\n",
    "    return flag"
   ],
   "metadata": {
    "collapsed": false,
    "pycharm": {
     "name": "#%%\n"
    }
   }
  },
  {
   "cell_type": "code",
   "execution_count": 249,
   "outputs": [],
   "source": [
    "def optim_iColums_f_orf_M(array):\n",
    "    \"\"\"\n",
    "    @:doc Функция определяет СТОЛБЦЫ в оценночной строке со значениями удовлетворяющие условию min(|deltaF|) --> max, max(|deltaF|) --> min\n",
    "    ========================================================\n",
    "    @:arg array_f - оценочная строка\n",
    "    return\n",
    "        @:arg optim - оптимальное значение столбца\n",
    "        @:arg list_null - Имеется ввиду, что если нету отрицательных элементов для max, то True\n",
    "    \"\"\"\n",
    "    if lim == \"max\":\n",
    "        index_optim_colums = [i for i,num  in enumerate(array) if num < 0]# Массив с индексами удовлетворяющий условию MAX\n",
    "        value_optim_colums = [array[i] for i in index_optim_colums]\n",
    "        if len(index_optim_colums) == 0:\n",
    "            optim = None\n",
    "        else:\n",
    "            optim = min(value_optim_colums)\n",
    "    else:\n",
    "        index_optim_colums = [i for i,num  in enumerate(array) if num > 0]# Массив с индексами удовлетворяющий условию MIN\n",
    "        value_optim_colums = [array[i] for i in index_optim_colums]\n",
    "        if len(index_optim_colums) == 0:\n",
    "            optim = None\n",
    "        else:\n",
    "            optim = max(value_optim_colums)\n",
    "\n",
    "    return optim\n"
   ],
   "metadata": {
    "collapsed": false,
    "pycharm": {
     "name": "#%%\n"
    }
   }
  },
  {
   "cell_type": "code",
   "execution_count": 250,
   "outputs": [],
   "source": [
    "def validate_iСolumn(array_f,array_f_M,optim_iСolumn_f,optim_iСolumn_f_M, source_M):\n",
    "    \"\"\"\n",
    "    @:doc Функция определяет разрешающий СТОЛБЕЦ! Удовлетворяющий условию min(|deltaF|) --> max, max(|deltaF|) --> min\n",
    "    ========================================================\n",
    "    @:arg optim_iСolumn_f \\..._f_M - возможный оптимальное значение в оценочной строки разрешающего столбца\n",
    "    return\n",
    "        @:arg iСolumn - индекс разрешающего столбца\n",
    "        @:arg ai0j - массив с разрешащим столбцом\n",
    "    \"\"\"\n",
    "    if lim == \"max\":\n",
    "        if optim_iСolumn_f == None:\n",
    "            iСolumn = list(array_f_M).index(optim_iСolumn_f_M)\n",
    "        elif optim_iСolumn_f_M == None:\n",
    "            iСolumn = list(array_f).index(optim_iСolumn_f)\n",
    "        elif optim_iСolumn_f < optim_iСolumn_f_M:\n",
    "            iСolumn = list(array_f).index(optim_iСolumn_f)\n",
    "        else:\n",
    "            iСolumn = list(array_f_M).index(optim_iСolumn_f_M)\n",
    "    else:\n",
    "        if optim_iСolumn_f == None:\n",
    "            iСolumn = list(array_f_M).index(optim_iСolumn_f_M)\n",
    "        elif optim_iСolumn_f_M == None:\n",
    "            iСolumn = list(array_f).index(optim_iСolumn_f)\n",
    "        elif optim_iСolumn_f > optim_iСolumn_f_M:\n",
    "            iСolumn = list(array_f).index(optim_iСolumn_f)\n",
    "        else:\n",
    "            iСolumn = list(array_f_M).index(optim_iСolumn_f_M)\n",
    "    ai0j = [source_M[:,iСolumn][j] for j in range(0,m)]\n",
    "    flag = mark_2(ai0j)\n",
    "    return flag, iСolumn, ai0j"
   ],
   "metadata": {
    "collapsed": false,
    "pycharm": {
     "name": "#%%\n"
    }
   }
  },
  {
   "cell_type": "code",
   "execution_count": 251,
   "outputs": [],
   "source": [
    "def validate_jRow_ai0j0(iСolumn, ai0j, source_M, A0):\n",
    "    \"\"\"\n",
    "    @:doc Функция определяет оптимальное {Θ}, а также определяет\n",
    "    ========================================================\n",
    "    @:arg array_f - оценочная строка основной задачи\n",
    "    @:arg teta - массив с элементами\n",
    "    return\n",
    "        @:arg jRow - индекс разрешащей строки\n",
    "        @:arg aij0 - массив с разрешащей строкой\n",
    "        @:arg aij - оценочная строка M задачи\n",
    "        or teta_i == math.isnan(float('nan')) or teta_i == math.isinf(float('inf'))\n",
    "    \"\"\"\n",
    "    teta = np.zeros((m))\n",
    "\n",
    "    for i  in range(0,m): # Расчёт {Θ} Если элементы отрицательные, то вернуть \"прочерк\" --> \"-1\"\n",
    "        teta_i = round(A0[i]/ai0j[i],2)\n",
    "        if teta_i <= 0:\n",
    "            teta_i = -1\n",
    "        teta[i] = teta_i\n",
    "\n",
    "    index_optim_teta= [i for i,num  in enumerate(teta) if num > 0 ]# Массив с индексами удовлетворяющей условию\n",
    "    value_optim_colums = [teta[i] for i in index_optim_teta]\n",
    "    jRow = list(teta).index(min(value_optim_colums))\n",
    "    aij0 = [source_M[:,i][jRow] for i in range(0,l)]\n",
    "    ai0j0 = source_M[:,iСolumn][jRow]\n",
    "    print(\"Элементы массива teta ~ Θ\")\n",
    "    [print(f'Θ_{i}j = ({A0[i]})/({ai0j[i]}) = {teta[i]}') for i  in range(0,m)]\n",
    "    print(f\"Индекс разрешающего столбца: [{iСolumn}]\")\n",
    "    print(f\"Элементы разрешающего столбца: [ {ai0j}]\")\n",
    "    print(f\"Индекс разрешающей строки: [{jRow}]\")\n",
    "    print(f\"Элементы разрешающей строки: [{aij0}]\")\n",
    "    print(f\"Разрешающий элемент: [{ai0j0}]\")\n",
    "    return jRow, aij0, ai0j0"
   ],
   "metadata": {
    "collapsed": false,
    "pycharm": {
     "name": "#%%\n"
    }
   }
  },
  {
   "cell_type": "code",
   "execution_count": 252,
   "outputs": [],
   "source": [
    "def new_simplex_table(iСolumn, ai0j, jRow, aij0, ai0j0, source_M, A0, Cb, Zx_M, basis):\n",
    "    new_A0 = np.zeros((m))\n",
    "    new_source_M = source_M.copy()\n",
    "    Zx_M_new = Zx_M.copy()\n",
    "    for i in range(0,l):\n",
    "        if i != iСolumn:\n",
    "            for j in range(0,m):\n",
    "                if j != jRow:\n",
    "                    new_A0[j] = A0[j] - (A0[jRow]*ai0j[j])/ai0j0\n",
    "                    new_source_M[:,i][j] = source_M[:,i][j] - (ai0j[j]*aij0[i])/ai0j0\n",
    "                    source_M[:,iСolumn][j] = 0\n",
    "                else:\n",
    "                    new_A0[j] = A0[j]/ai0j0\n",
    "                    new_source_M[:,i][j] = aij0[i]/ai0j0\n",
    "    for j in range(0,m):\n",
    "        for i in range(0,l):\n",
    "           if basis[jRow] == i:\n",
    "               if Zx_M_new[i] == M:\n",
    "                   new_source_M[:,i][j] = 0\n",
    "           if jRow != j:\n",
    "               new_source_M[:,iСolumn][j] = 0\n",
    "\n",
    "    new_source_M[:,iСolumn][jRow] = 1\n",
    "    Cb[jRow] = Zx_M[iСolumn]\n",
    "    Zx_M_new[basis[jRow]] = 0\n",
    "    basis[jRow] = Zx_M.index(Zx_M[iСolumn])\n",
    "\n",
    "    print(\"Новая симплекс таблица: \")\n",
    "    print(new_source_M)\n",
    "    print(\"Свободные члены системы ограничений Aо: \", new_A0)\n",
    "    print(\"Индексы элементов нового базиса: \", basis)\n",
    "    print(\"Коэффициенты при базисных переменных: \", Cb)\n",
    "    print(\"Коэффициенты новой целевой функции \", Zx_M_new)\n",
    "    return new_source_M, new_A0, basis, Cb , Zx_M_new"
   ],
   "metadata": {
    "collapsed": false,
    "pycharm": {
     "name": "#%%\n"
    }
   }
  },
  {
   "cell_type": "code",
   "execution_count": 253,
   "outputs": [],
   "source": [
    "def result(basis,A0,Cb):\n",
    "    result = [0 for i in range(0,n)] # Заполнение нулями по количеству переменных\n",
    "    for i in range(m):\n",
    "        result[basis[i]] = A0[i] # Заполнение оптимального плана значениями А0\n",
    "    print(\"\\nresult = \", result)\n",
    "    # Расчет минимального/максимального значения целевой функции\n",
    "    z = 0\n",
    "    for i in range(m):\n",
    "        z += Cb[i] * A0[i]\n",
    "    print(\"\\nz = \", z)"
   ],
   "metadata": {
    "collapsed": false,
    "pycharm": {
     "name": "#%%\n"
    }
   }
  },
  {
   "cell_type": "code",
   "execution_count": 254,
   "outputs": [
    {
     "name": "stdout",
     "output_type": "stream",
     "text": [
      "Задача на: max Z(x)\n",
      "  х1,...,хn,w1,...,wn\n",
      "  [4, -4, 1, 0, (-0-1j), (-0-1j)]\n",
      "[[-4. -3.  0.  0.  1.  0.]\n",
      " [ 4.  4.  0. -1.  0.  1.]\n",
      " [ 4.  3.  1.  0.  0.  0.]]\n",
      "\n",
      "=========================Итерация [0]=========================\n",
      "\n",
      "Оценночная строка fj-cj:  [0.0, 7.0, 0.0, 0.0, 0.0, 0.0]\n",
      "Оценночная строка fj-cj M задачи:  [0.0, -1.0, 0.0, 1.0, 0.0, 0.0]\n",
      "План не оптимален, следует перейти к \"нехудшему\" решению.\n",
      "Элементы массива teta ~ Θ\n",
      "Θ_0j = (4)/(-3.0) = -1.0\n",
      "Θ_1j = (4)/(4.0) = 1.0\n",
      "Θ_2j = (5)/(3.0) = 1.67\n",
      "Индекс разрешающего столбца: [1]\n",
      "Элементы разрешающего столбца: [ [-3.0, 4.0, 3.0]]\n",
      "Индекс разрешающей строки: [1]\n",
      "Элементы разрешающей строки: [[4.0, 4.0, 0.0, -1.0, 0.0, 1.0]]\n",
      "Разрешающий элемент: [4.0]\n",
      "Новая симплекс таблица: \n",
      "[[-1.    0.    0.   -0.75  0.    0.75]\n",
      " [ 1.    1.    0.   -0.25  0.    0.25]\n",
      " [ 1.    0.    1.    0.75  0.   -0.75]]\n",
      "Свободные члены системы ограничений Aо:  [7. 1. 2.]\n",
      "Индексы элементов нового базиса:  [2, 1, 5]\n",
      "Коэффициенты при базисных переменных:  [(-0-1j), -4, 1]\n",
      "Коэффициенты новой целевой функции  [4, -4, 1, 0, 0, (-0-1j)]\n",
      "Признак несовместности системы ограничений. Невозможно вывести искусственную переменную из базиса под индексом 0.\n"
     ]
    },
    {
     "ename": "IndexError",
     "evalue": "list assignment index out of range",
     "output_type": "error",
     "traceback": [
      "\u001B[1;31m---------------------------------------------------------------------------\u001B[0m",
      "\u001B[1;31mIndexError\u001B[0m                                Traceback (most recent call last)",
      "\u001B[1;32m~\\AppData\\Local\\Temp\\ipykernel_9376\\2758545983.py\u001B[0m in \u001B[0;36m<module>\u001B[1;34m\u001B[0m\n\u001B[0;32m     36\u001B[0m     \u001B[0msource_M\u001B[0m\u001B[1;33m,\u001B[0m \u001B[0mnew_A0\u001B[0m\u001B[1;33m,\u001B[0m \u001B[0mbasis\u001B[0m\u001B[1;33m,\u001B[0m \u001B[0mCb\u001B[0m\u001B[1;33m,\u001B[0m \u001B[0mZx_M_new\u001B[0m \u001B[1;33m=\u001B[0m \u001B[0mnew_simplex_table\u001B[0m\u001B[1;33m(\u001B[0m\u001B[0miСolumn\u001B[0m\u001B[1;33m,\u001B[0m \u001B[0mai0j\u001B[0m\u001B[1;33m,\u001B[0m \u001B[0mjRow\u001B[0m\u001B[1;33m,\u001B[0m \u001B[0maij0\u001B[0m\u001B[1;33m,\u001B[0m \u001B[0mai0j0\u001B[0m\u001B[1;33m,\u001B[0m \u001B[0msource_M\u001B[0m\u001B[1;33m,\u001B[0m \u001B[0mnew_A0\u001B[0m\u001B[1;33m,\u001B[0m \u001B[0mCb\u001B[0m\u001B[1;33m,\u001B[0m \u001B[0mZx_M\u001B[0m\u001B[1;33m,\u001B[0m \u001B[0mbasis\u001B[0m\u001B[1;33m)\u001B[0m\u001B[1;33m\u001B[0m\u001B[1;33m\u001B[0m\u001B[0m\n\u001B[0;32m     37\u001B[0m     \u001B[0mflag\u001B[0m \u001B[1;33m=\u001B[0m \u001B[0mmark_3\u001B[0m\u001B[1;33m(\u001B[0m\u001B[0msource_M\u001B[0m\u001B[1;33m,\u001B[0m \u001B[0mCb\u001B[0m\u001B[1;33m,\u001B[0m \u001B[0mZx_M\u001B[0m\u001B[1;33m)\u001B[0m\u001B[1;33m\u001B[0m\u001B[1;33m\u001B[0m\u001B[0m\n\u001B[1;32m---> 38\u001B[1;33m \u001B[0mresult\u001B[0m\u001B[1;33m(\u001B[0m\u001B[0mbasis\u001B[0m\u001B[1;33m,\u001B[0m\u001B[0mnew_A0\u001B[0m\u001B[1;33m,\u001B[0m\u001B[0mCb\u001B[0m\u001B[1;33m)\u001B[0m\u001B[1;33m\u001B[0m\u001B[1;33m\u001B[0m\u001B[0m\n\u001B[0m\u001B[0;32m     39\u001B[0m \u001B[1;33m\u001B[0m\u001B[0m\n",
      "\u001B[1;32m~\\AppData\\Local\\Temp\\ipykernel_9376\\1488708081.py\u001B[0m in \u001B[0;36mresult\u001B[1;34m(basis, A0, Cb)\u001B[0m\n\u001B[0;32m      2\u001B[0m     \u001B[0mresult\u001B[0m \u001B[1;33m=\u001B[0m \u001B[1;33m[\u001B[0m\u001B[1;36m0\u001B[0m \u001B[1;32mfor\u001B[0m \u001B[0mi\u001B[0m \u001B[1;32min\u001B[0m \u001B[0mrange\u001B[0m\u001B[1;33m(\u001B[0m\u001B[1;36m0\u001B[0m\u001B[1;33m,\u001B[0m\u001B[0mn\u001B[0m\u001B[1;33m)\u001B[0m\u001B[1;33m]\u001B[0m \u001B[1;31m# Заполнение нулями по количеству переменных\u001B[0m\u001B[1;33m\u001B[0m\u001B[1;33m\u001B[0m\u001B[0m\n\u001B[0;32m      3\u001B[0m     \u001B[1;32mfor\u001B[0m \u001B[0mi\u001B[0m \u001B[1;32min\u001B[0m \u001B[0mrange\u001B[0m\u001B[1;33m(\u001B[0m\u001B[0mm\u001B[0m\u001B[1;33m)\u001B[0m\u001B[1;33m:\u001B[0m\u001B[1;33m\u001B[0m\u001B[1;33m\u001B[0m\u001B[0m\n\u001B[1;32m----> 4\u001B[1;33m         \u001B[0mresult\u001B[0m\u001B[1;33m[\u001B[0m\u001B[0mbasis\u001B[0m\u001B[1;33m[\u001B[0m\u001B[0mi\u001B[0m\u001B[1;33m]\u001B[0m\u001B[1;33m]\u001B[0m \u001B[1;33m=\u001B[0m \u001B[0mA0\u001B[0m\u001B[1;33m[\u001B[0m\u001B[0mi\u001B[0m\u001B[1;33m]\u001B[0m \u001B[1;31m# Заполнение оптимального плана значениями А0\u001B[0m\u001B[1;33m\u001B[0m\u001B[1;33m\u001B[0m\u001B[0m\n\u001B[0m\u001B[0;32m      5\u001B[0m     \u001B[0mprint\u001B[0m\u001B[1;33m(\u001B[0m\u001B[1;34m\"\\nresult = \"\u001B[0m\u001B[1;33m,\u001B[0m \u001B[0mresult\u001B[0m\u001B[1;33m)\u001B[0m\u001B[1;33m\u001B[0m\u001B[1;33m\u001B[0m\u001B[0m\n\u001B[0;32m      6\u001B[0m     \u001B[1;31m# Расчет минимального/максимального значения целевой функции\u001B[0m\u001B[1;33m\u001B[0m\u001B[1;33m\u001B[0m\u001B[1;33m\u001B[0m\u001B[0m\n",
      "\u001B[1;31mIndexError\u001B[0m: list assignment index out of range"
     ]
    }
   ],
   "source": [
    "print(f\"Задача на: {lim} Z(x)\")\n",
    "print(\"  х1,...,хn,w1,...,wn\")\n",
    "print(\" \",Zx_M)\n",
    "print(source_M)\n",
    "flag = True\n",
    "iteration = 0\n",
    "print()\n",
    "print(f\"=========================Итерация [{iteration}]=========================\" )\n",
    "print()\n",
    "#flag = mark_3(source_M, Cb, Zx_M)\n",
    "if flag:\n",
    "    array_f = deltaFj(True, Zx_M, Cb, source_M)\n",
    "    array_f_M = deltaFj(False, Zx_M, Cb, source_M)\n",
    "    flag = validate_Optim(array_f,array_f_M)\n",
    "    optim_iСolumn_f_M = optim_iColums_f_orf_M(array_f_M)\n",
    "    optim_iСolumn_f = optim_iColums_f_orf_M(array_f)\n",
    "    flag, iСolumn, ai0j = validate_iСolumn(array_f,array_f_M,optim_iСolumn_f,optim_iСolumn_f_M, source_M)\n",
    "    jRow, aij0, ai0j0 = validate_jRow_ai0j0(iСolumn, ai0j, source_M, A0)\n",
    "    source_M, new_A0, basis, Cb, Zx_M_new = new_simplex_table(iСolumn, ai0j, jRow, aij0, ai0j0, source_M, A0, Cb, Zx_M, basis)\n",
    "    flag = mark_3(source_M, Cb, Zx_M)\n",
    "while(flag):\n",
    "    iteration += 1\n",
    "    print()\n",
    "    print(f\"=========================Итерация [{iteration}]=========================\" )\n",
    "    print()\n",
    "    array_f = deltaFj(True, Zx_M_new, Cb, source_M)\n",
    "    array_f_M = deltaFj(False, Zx_M_new, Cb, source_M)\n",
    "\n",
    "    flag = validate_Optim(array_f,array_f_M)\n",
    "\n",
    "    optim_iСolumn_f_M = optim_iColums_f_orf_M(array_f_M)\n",
    "    optim_iСolumn_f = optim_iColums_f_orf_M(array_f)\n",
    "    flag, iСolumn, ai0j = validate_iСolumn(array_f,array_f_M,optim_iСolumn_f,optim_iСolumn_f_M, source_M)\n",
    "    jRow, aij0, ai0j0 = validate_jRow_ai0j0(iСolumn, ai0j, source_M, new_A0)\n",
    "\n",
    "    source_M, new_A0, basis, Cb, Zx_M_new = new_simplex_table(iСolumn, ai0j, jRow, aij0, ai0j0, source_M, new_A0, Cb, Zx_M, basis)\n",
    "    flag = mark_3(source_M, Cb, Zx_M)\n",
    "result(basis,new_A0,Cb)\n"
   ],
   "metadata": {
    "collapsed": false,
    "pycharm": {
     "name": "#%%\n"
    }
   }
  },
  {
   "cell_type": "code",
   "execution_count": null,
   "outputs": [],
   "source": [
    "targetFunctionCoef = [4, -4, 1] # Коэффициенты при переменных в целевой функции\n",
    "\n",
    "leftPartLimitIneq = [[4, 4, 0]]  # Левые части неравенств в системе ограничений\n",
    "rightPartLimitIneq = [4] # Правые части неравенств в системе ограничений\n",
    "\n",
    "leftPartLimitEq = [[-4, -3, 0],[4, 3, 1]] # Левые части равенств в системе ограничений\n",
    "rightPartLimitEq = [4,5] # Правые части равенств в системе ограничений\n",
    "\n",
    "# Применение функции для получения результатов\n",
    "opt = optimize.linprog(c=targetFunctionCoef,\n",
    "                       A_ub=leftPartLimitIneq,\n",
    "                       b_ub=rightPartLimitIneq,\n",
    "                       A_eq=leftPartLimitEq,\n",
    "                       b_eq=rightPartLimitEq,\n",
    "                       method=\"revised simplex\")\n",
    "# Вывод результатов в консоль\n",
    "print('\\nРасчет с помощью метода linprog из библиотеки Scipy \\n', opt)"
   ],
   "metadata": {
    "collapsed": false,
    "pycharm": {
     "name": "#%%\n"
    }
   }
  },
  {
   "cell_type": "code",
   "execution_count": null,
   "outputs": [],
   "source": [
    "# print(source_M)\n",
    "# array_f = deltaFj(True, Zx_M, Cb, source_M)\n",
    "# array_f_M = deltaFj(False, Zx_M, Cb, source_M)\n",
    "# flag = validate_Optim(array_f,array_f_M)\n",
    "# optim_iСolumn_f_M = optim_iColums_f_orf_M(array_f_M)\n",
    "# optim_iСolumn_f = optim_iColums_f_orf_M(array_f)\n",
    "# iСolumn, ai0j = validate_iСolumn(array_f,array_f_M,optim_iСolumn_f,optim_iСolumn_f_M, source_M)\n",
    "# jRow, aij0, ai0j0 = validate_jRow_ai0j0(iСolumn, ai0j, source_M, A0)\n",
    "# new_A0 = np.zeros((m))\n",
    "# new_source_M = source_M.copy()\n",
    "# for i in range(0,l):\n",
    "#     if i != iСolumn:\n",
    "#         for j in range(0,m):\n",
    "#             if j != jRow:\n",
    "#                 new_A0[j] = A0[j] - (A0[jRow]*ai0j[j])/ai0j0\n",
    "#                 new_source_M[:,i][j] = source_M[:,i][j] - (ai0j[j]*aij0[i])/ai0j0\n",
    "#             else:\n",
    "#                 new_A0[j] = A0[j]/ai0j0\n",
    "#                 new_source_M[:,i][j] = aij0[i]/ai0j0\n",
    "# for j in range(0,m):\n",
    "#     for i in range(0,l):\n",
    "#        if basis[jRow] == i:\n",
    "#             new_source_M[:,i][j] = 0\n",
    "#        if jRow != j:\n",
    "#            new_source_M[:,iСolumn][j] = 0\n",
    "#\n",
    "# new_source_M[:,iСolumn][jRow] = 1\n",
    "# Cb[jRow] = Zx_M[iСolumn]\n",
    "# Zx_M_new = Zx_M.copy()\n",
    "# Zx_M_new[basis[jRow]] = 0\n",
    "#\n",
    "#\n",
    "# new_source_M, new_A0, Zx_M_new"
   ],
   "metadata": {
    "collapsed": false,
    "pycharm": {
     "name": "#%%\n"
    }
   }
  }
 ],
 "metadata": {
  "kernelspec": {
   "display_name": "Python 3",
   "language": "python",
   "name": "python3"
  },
  "language_info": {
   "codemirror_mode": {
    "name": "ipython",
    "version": 3
   },
   "file_extension": ".py",
   "mimetype": "text/x-python",
   "name": "python",
   "nbconvert_exporter": "python",
   "pygments_lexer": "ipython3",
   "version": "3.7.10"
  },
  "varInspector": {
   "cols": {
    "lenName": 16,
    "lenType": 16,
    "lenVar": 40
   },
   "kernels_config": {
    "python": {
     "delete_cmd_postfix": "",
     "delete_cmd_prefix": "del ",
     "library": "var_list.py",
     "varRefreshCmd": "print(var_dic_list())"
    },
    "r": {
     "delete_cmd_postfix": ") ",
     "delete_cmd_prefix": "rm(",
     "library": "var_list.r",
     "varRefreshCmd": "cat(var_dic_list()) "
    }
   },
   "types_to_exclude": [
    "module",
    "function",
    "builtin_function_or_method",
    "instance",
    "_Feature"
   ],
   "window_display": false
  }
 },
 "nbformat": 4,
 "nbformat_minor": 5
}